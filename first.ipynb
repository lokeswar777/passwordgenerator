{
 "cells": [
  {
   "cell_type": "code",
   "execution_count": 47,
   "metadata": {},
   "outputs": [
    {
     "name": "stdout",
     "output_type": "stream",
     "text": [
      "['a', 's', 'd', 'f', 'g', 'h', 'j', 'k', 'l', 'z', 'x', 'c', 'v', 'b', 'n', 'm', 'q', 'w', 'e', 'r', 't', 'y', 'u', 'i', 'o', 'p']\n"
     ]
    },
    {
     "data": {
      "text/plain": [
       "26"
      ]
     },
     "execution_count": 47,
     "metadata": {},
     "output_type": "execute_result"
    }
   ],
   "source": [
    "low_chars=[x for x in \"asdfghjklzxcvbnmqwertyuiop\"]\n",
    "print(low_chars)\n",
    "len(low_chars)"
   ]
  },
  {
   "cell_type": "code",
   "execution_count": 48,
   "metadata": {},
   "outputs": [
    {
     "name": "stdout",
     "output_type": "stream",
     "text": [
      "['a', 'b', 'c', 'd', 'e', 'f', 'g', 'h', 'i', 'j', 'k', 'l', 'm', 'n', 'o', 'p', 'q', 'r', 's', 't', 'u', 'v', 'w', 'x', 'y']\n",
      "['A', 'B', 'C', 'D', 'E', 'F', 'G', 'H', 'I', 'J', 'K', 'L', 'M', 'N', 'O', 'P', 'Q', 'R', 'S', 'T', 'U', 'V', 'W', 'X', 'Y']\n"
     ]
    }
   ],
   "source": [
    "lows=[chr(x) for x in range(97,122)]\n",
    "print(lows)\n",
    "highs=[chr(x)  for x in range(65,90)]\n",
    "print(highs)"
   ]
  },
  {
   "cell_type": "code",
   "execution_count": 49,
   "metadata": {},
   "outputs": [],
   "source": [
    "nums=[1,2,3,4,5,6,7,8,9,0]"
   ]
  },
  {
   "cell_type": "code",
   "execution_count": 50,
   "metadata": {},
   "outputs": [
    {
     "name": "stdout",
     "output_type": "stream",
     "text": [
      "['!', '\"', '#', '$', '%', '&', \"'\", '(', ')', '*', '+', ',', '-', '.']\n"
     ]
    }
   ],
   "source": [
    "spl=[chr(x) for x in range(33,47)]\n",
    "print(spl)"
   ]
  },
  {
   "cell_type": "code",
   "execution_count": 60,
   "metadata": {},
   "outputs": [],
   "source": [
    "import itertools\n",
    "def password(n,l,c,s,n_n):\n",
    "    l=[random.choice(lows) for _ in range(l)]\n",
    "    c=[random.choice(highs) for _ in range(c)]\n",
    "    s=[random.choice(spl) for _ in range(s)]\n",
    "    nums_g=[str(random.choice(nums)) for _ in range(n_n)]\n",
    "    res=list(itertools.chain(l,c,s,nums_g))\n",
    "    return \"\".join(res)"
   ]
  },
  {
   "cell_type": "code",
   "execution_count": 64,
   "metadata": {},
   "outputs": [
    {
     "data": {
      "text/plain": [
       "'cxrmmJS%4'"
      ]
     },
     "execution_count": 64,
     "metadata": {},
     "output_type": "execute_result"
    }
   ],
   "source": [
    "password(8,5,2,1,1)"
   ]
  },
  {
   "cell_type": "code",
   "execution_count": 4,
   "metadata": {},
   "outputs": [
    {
     "ename": "NameError",
     "evalue": "name 'password' is not defined",
     "output_type": "error",
     "traceback": [
      "\u001b[1;31m---------------------------------------------------------------------------\u001b[0m",
      "\u001b[1;31mNameError\u001b[0m                                 Traceback (most recent call last)",
      "Cell \u001b[1;32mIn[4], line 12\u001b[0m\n\u001b[0;32m      9\u001b[0m     \u001b[38;5;28mprint\u001b[39m(\u001b[38;5;124m\"\u001b[39m\u001b[38;5;124mwrong input\u001b[39m\u001b[38;5;124m\"\u001b[39m)\n\u001b[0;32m     10\u001b[0m \u001b[38;5;28;01melse\u001b[39;00m:\n\u001b[1;32m---> 12\u001b[0m     \u001b[38;5;28mprint\u001b[39m(\u001b[43mpassword\u001b[49m(n,low_n,capitals,sp,numbers))\n",
      "\u001b[1;31mNameError\u001b[0m: name 'password' is not defined"
     ]
    }
   ],
   "source": [
    "import random\n",
    "\n",
    "n=int(input(\"enter total password length\"))\n",
    "low_n=int(input(\"enter no of small characters\"))\n",
    "capitals=int(input(\"enter no of capitals\"))\n",
    "sp=int(input(\"enter no of spl chars\"))\n",
    "numbers=int(input(\"enter no of numbers\"))\n",
    "if n>=(low_n+capitals+sp+numbers):\n",
    "    print(\"wrong input\")\n",
    "else:\n",
    "    \n",
    "    print(password(n,low_n,capitals,sp,numbers))"
   ]
  },
  {
   "cell_type": "code",
   "execution_count": 42,
   "metadata": {},
   "outputs": [
    {
     "ename": "NameError",
     "evalue": "name 'l' is not defined",
     "output_type": "error",
     "traceback": [
      "\u001b[1;31m---------------------------------------------------------------------------\u001b[0m",
      "\u001b[1;31mNameError\u001b[0m                                 Traceback (most recent call last)",
      "Cell \u001b[1;32mIn[42], line 1\u001b[0m\n\u001b[1;32m----> 1\u001b[0m \u001b[43ml\u001b[49m\n",
      "\u001b[1;31mNameError\u001b[0m: name 'l' is not defined"
     ]
    }
   ],
   "source": [
    "l"
   ]
  },
  {
   "cell_type": "code",
   "execution_count": 5,
   "metadata": {},
   "outputs": [
    {
     "name": "stdout",
     "output_type": "stream",
     "text": [
      "kgdjsMW\"38\n"
     ]
    }
   ],
   "source": [
    "lows=[chr(x) for x in range(97,122)]\n",
    "highs=[chr(x)  for x in range(65,90)]\n",
    "nums=[1,2,3,4,5,6,7,8,9,0]\n",
    "spl=[chr(x) for x in range(33,47)]\n",
    "import itertools\n",
    "def password(n,l,c,s,n_n):\n",
    "    l=[random.choice(lows) for _ in range(l)]\n",
    "    c=[random.choice(highs) for _ in range(c)]\n",
    "    s=[random.choice(spl) for _ in range(s)]\n",
    "    nums_g=[str(random.choice(nums)) for _ in range(n_n)]\n",
    "    res=list(itertools.chain(l,c,s,nums_g))\n",
    "    return \"\".join(res)\n",
    "\n",
    "import random\n",
    "\n",
    "n=int(input(\"enter total password length\"))\n",
    "low_n=int(input(\"enter no of small characters\"))\n",
    "capitals=int(input(\"enter no of capitals\"))\n",
    "sp=int(input(\"enter no of spl chars\"))\n",
    "numbers=int(input(\"enter no of numbers\"))\n",
    "if n>=(low_n+capitals+sp+numbers):\n",
    "    print(\"wrong input\")\n",
    "else:\n",
    "    \n",
    "    print(password(n,low_n,capitals,sp,numbers))\n"
   ]
  },
  {
   "cell_type": "code",
   "execution_count": null,
   "metadata": {},
   "outputs": [],
   "source": []
  }
 ],
 "metadata": {
  "kernelspec": {
   "display_name": "Python 3",
   "language": "python",
   "name": "python3"
  },
  "language_info": {
   "codemirror_mode": {
    "name": "ipython",
    "version": 3
   },
   "file_extension": ".py",
   "mimetype": "text/x-python",
   "name": "python",
   "nbconvert_exporter": "python",
   "pygments_lexer": "ipython3",
   "version": "3.12.5"
  }
 },
 "nbformat": 4,
 "nbformat_minor": 2
}
